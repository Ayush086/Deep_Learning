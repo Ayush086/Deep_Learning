{
 "cells": [
  {
   "cell_type": "markdown",
   "id": "e7cf9faf",
   "metadata": {},
   "source": [
    "### Regression Problem"
   ]
  },
  {
   "cell_type": "code",
   "execution_count": 1,
   "id": "b2444a74",
   "metadata": {},
   "outputs": [],
   "source": [
    "import numpy as np\n",
    "import pandas as pd\n"
   ]
  },
  {
   "cell_type": "code",
   "execution_count": 2,
   "id": "aa105e5d",
   "metadata": {},
   "outputs": [],
   "source": [
    "df = pd.DataFrame([[8,8,4], [7,9,5], [6,10,6], [5, 12,7]], columns=['cgpa','profile_score', 'lpa'])\n"
   ]
  },
  {
   "cell_type": "code",
   "execution_count": 3,
   "id": "bb8ba410",
   "metadata": {},
   "outputs": [
    {
     "data": {
      "text/html": [
       "<div>\n",
       "<style scoped>\n",
       "    .dataframe tbody tr th:only-of-type {\n",
       "        vertical-align: middle;\n",
       "    }\n",
       "\n",
       "    .dataframe tbody tr th {\n",
       "        vertical-align: top;\n",
       "    }\n",
       "\n",
       "    .dataframe thead th {\n",
       "        text-align: right;\n",
       "    }\n",
       "</style>\n",
       "<table border=\"1\" class=\"dataframe\">\n",
       "  <thead>\n",
       "    <tr style=\"text-align: right;\">\n",
       "      <th></th>\n",
       "      <th>cgpa</th>\n",
       "      <th>profile_score</th>\n",
       "      <th>lpa</th>\n",
       "    </tr>\n",
       "  </thead>\n",
       "  <tbody>\n",
       "    <tr>\n",
       "      <th>0</th>\n",
       "      <td>8</td>\n",
       "      <td>8</td>\n",
       "      <td>4</td>\n",
       "    </tr>\n",
       "    <tr>\n",
       "      <th>1</th>\n",
       "      <td>7</td>\n",
       "      <td>9</td>\n",
       "      <td>5</td>\n",
       "    </tr>\n",
       "    <tr>\n",
       "      <th>2</th>\n",
       "      <td>6</td>\n",
       "      <td>10</td>\n",
       "      <td>6</td>\n",
       "    </tr>\n",
       "    <tr>\n",
       "      <th>3</th>\n",
       "      <td>5</td>\n",
       "      <td>12</td>\n",
       "      <td>7</td>\n",
       "    </tr>\n",
       "  </tbody>\n",
       "</table>\n",
       "</div>"
      ],
      "text/plain": [
       "   cgpa  profile_score  lpa\n",
       "0     8              8    4\n",
       "1     7              9    5\n",
       "2     6             10    6\n",
       "3     5             12    7"
      ]
     },
     "execution_count": 3,
     "metadata": {},
     "output_type": "execute_result"
    }
   ],
   "source": [
    "df\n"
   ]
  },
  {
   "cell_type": "code",
   "execution_count": 4,
   "id": "908abb6c",
   "metadata": {},
   "outputs": [],
   "source": [
    "# initializing the parameters (weights and biases)\n",
    "\n",
    "def initialize_parameters(layer_dims): # layer_dims: # i/p parameters at each layer in form of 1d array. In our case [2, 2, 1]\n",
    "    np.random.seed(3)\n",
    "    parameters = {}\n",
    "    L = len(layer_dims)\n",
    "    \n",
    "    for l in range(1, L):\n",
    "        parameters['W' + str(l)] = np.ones((layer_dims[l-1], layer_dims[l]))*0.1 # weights matrix of size [previous_layer_parameters x current_layer_parameters]\n",
    "        parameters['b' + str(l)] = np.zeros((layer_dims[l], 1)) # bias matrix for current layer\n",
    "        \n",
    "    return parameters\n"
   ]
  },
  {
   "cell_type": "code",
   "execution_count": 5,
   "id": "73a5c07e",
   "metadata": {},
   "outputs": [
    {
     "data": {
      "text/plain": [
       "{'W1': array([[0.1, 0.1],\n",
       "        [0.1, 0.1]]),\n",
       " 'b1': array([[0.],\n",
       "        [0.]]),\n",
       " 'W2': array([[0.1],\n",
       "        [0.1]]),\n",
       " 'b2': array([[0.]])}"
      ]
     },
     "execution_count": 5,
     "metadata": {},
     "output_type": "execute_result"
    }
   ],
   "source": [
    "initialize_parameters([2,2,1])\n"
   ]
  },
  {
   "cell_type": "code",
   "execution_count": 6,
   "id": "cd662b00",
   "metadata": {},
   "outputs": [],
   "source": [
    "# calculate the value at each neuron\n",
    "def linear_forward(prev_layer_answer, W, b):\n",
    "    z = np.dot(W.T, prev_layer_answer) + b\n",
    "    \n",
    "    return z\n"
   ]
  },
  {
   "cell_type": "code",
   "execution_count": 7,
   "id": "2c9b6160",
   "metadata": {},
   "outputs": [],
   "source": [
    "# forward propogation\n",
    "def layer_forward(X, parameters): # X - row\n",
    "    A = X\n",
    "    L = len(parameters) // 2 # no. of layers in neural network\n",
    "    \n",
    "    for l in range(1, L+1):\n",
    "        A_prev = A\n",
    "        Wl = parameters['W' + str(l)]\n",
    "        bl = parameters['b' + str(l)]\n",
    "        \n",
    "        print('A'+str(l-1)+': ', A_prev)\n",
    "        print('W'+str(l)+': ', Wl)\n",
    "        print('b'+str(l)+': ', bl)\n",
    "        print('--'*15)\n",
    "        \n",
    "        A = linear_forward(A_prev, Wl, bl)\n",
    "        print('A'+str(l)+\": \", A)\n",
    "        print(\"**\"*15)\n",
    "        \n",
    "    return A, A_prev # since we need output at every layer to calculate loss\n"
   ]
  },
  {
   "cell_type": "code",
   "execution_count": 8,
   "id": "266e04e8",
   "metadata": {},
   "outputs": [],
   "source": [
    "X = df[['cgpa', 'profile_score']].values[0].reshape(2, 1) # shape: [#feature x #training examples]\n",
    "y = df[['lpa']].values[0][0]\n",
    "\n",
    "# params init\n",
    "parameters = initialize_parameters([2,2,1])\n"
   ]
  },
  {
   "cell_type": "code",
   "execution_count": 9,
   "id": "86cd7671",
   "metadata": {},
   "outputs": [
    {
     "data": {
      "text/plain": [
       "array([[8],\n",
       "       [8]], dtype=int64)"
      ]
     },
     "execution_count": 9,
     "metadata": {},
     "output_type": "execute_result"
    }
   ],
   "source": [
    "X\n"
   ]
  },
  {
   "cell_type": "code",
   "execution_count": 10,
   "id": "2b7553fa",
   "metadata": {},
   "outputs": [
    {
     "name": "stdout",
     "output_type": "stream",
     "text": [
      "A0:  [[8]\n",
      " [8]]\n",
      "W1:  [[0.1 0.1]\n",
      " [0.1 0.1]]\n",
      "b1:  [[0.]\n",
      " [0.]]\n",
      "------------------------------\n",
      "A1:  [[1.6]\n",
      " [1.6]]\n",
      "******************************\n",
      "A1:  [[1.6]\n",
      " [1.6]]\n",
      "W2:  [[0.1]\n",
      " [0.1]]\n",
      "b2:  [[0.]]\n",
      "------------------------------\n",
      "A2:  [[0.32]]\n",
      "******************************\n"
     ]
    }
   ],
   "source": [
    "y_hat, A1 = layer_forward(X, parameters)\n"
   ]
  },
  {
   "cell_type": "code",
   "execution_count": 11,
   "id": "79428a39",
   "metadata": {},
   "outputs": [
    {
     "data": {
      "text/plain": [
       "13.5424"
      ]
     },
     "execution_count": 11,
     "metadata": {},
     "output_type": "execute_result"
    }
   ],
   "source": [
    "# loss\n",
    "(y - 0.32)**2\n"
   ]
  },
  {
   "cell_type": "code",
   "execution_count": 12,
   "id": "aad10252",
   "metadata": {},
   "outputs": [],
   "source": [
    "# calculate loss and update weights and biases\n",
    "def update_parameters(parameters, y, y_hat, A1, X):\n",
    "    parameters['W2'][0][0] = parameters['W2'][0][0] + (0.001 * 2 * (y - y_hat) * A1[0][0])\n",
    "    parameters['W2'][1][0] = parameters['W2'][1][0] + (0.001 * 2 * (y - y_hat) * A1[1][0])\n",
    "    parameters['b2'][0][0] = parameters['W2'][1][0] + (0.001 * 2 * (y - y_hat))\n",
    "    \n",
    "    parameters['W1'][0][0] = parameters['W1'][0][0] + (0.001 * 2 * (y - y_hat) * parameters['W2'][0][0] * X[0][0])\n",
    "    parameters['W1'][0][1] = parameters['W1'][0][1] + (0.001 * 2 * (y - y_hat) * parameters['W2'][0][0] * X[1][0])\n",
    "    parameters['b1'][0][0] = parameters['b1'][0][0] + (0.001 * 2 * (y - y_hat) * parameters['W2'][0][0])\n",
    "    \n",
    "    parameters['W1'][1][0] = parameters['W1'][1][0] + (0.001 * 2 * (y - y_hat) * parameters['W2'][1][0] * X[0][0])\n",
    "    parameters['W1'][1][1] = parameters['W1'][1][1] + (0.001 * 2 * (y - y_hat) * parameters['W2'][1][0] * X[1][0])\n",
    "    parameters['b1'][1][0] = parameters['b1'][1][0] + (0.001 * 2 * (y - y_hat) * parameters['W2'][1][0])\n"
   ]
  },
  {
   "cell_type": "code",
   "execution_count": 13,
   "id": "f0c9db09",
   "metadata": {},
   "outputs": [],
   "source": [
    "y_hat = y_hat[0][0]\n"
   ]
  },
  {
   "cell_type": "code",
   "execution_count": 14,
   "id": "847780b1",
   "metadata": {},
   "outputs": [
    {
     "data": {
      "text/plain": [
       "{'W1': array([[0.10658137, 0.10658137],\n",
       "        [0.10658137, 0.10658137]]),\n",
       " 'b1': array([[0.00082267],\n",
       "        [0.00082267]]),\n",
       " 'W2': array([[0.111776],\n",
       "        [0.111776]]),\n",
       " 'b2': array([[0.119136]])}"
      ]
     },
     "execution_count": 14,
     "metadata": {},
     "output_type": "execute_result"
    }
   ],
   "source": [
    "update_parameters(parameters, y, y_hat, A1, X)\n",
    "parameters\n"
   ]
  },
  {
   "cell_type": "markdown",
   "id": "c3891353",
   "metadata": {},
   "source": [
    "we can see the parameters are changed now"
   ]
  },
  {
   "cell_type": "code",
   "execution_count": 15,
   "id": "67e2770a",
   "metadata": {},
   "outputs": [
    {
     "name": "stdout",
     "output_type": "stream",
     "text": [
      "A0:  [[7]\n",
      " [9]]\n",
      "W1:  [[0.10658137 0.10658137]\n",
      " [0.10658137 0.10658137]]\n",
      "b1:  [[0.00082267]\n",
      " [0.00082267]]\n",
      "------------------------------\n",
      "A1:  [[1.70612461]\n",
      " [1.70612461]]\n",
      "******************************\n",
      "A1:  [[1.70612461]\n",
      " [1.70612461]]\n",
      "W2:  [[0.111776]\n",
      " [0.111776]]\n",
      "b2:  [[0.119136]]\n",
      "------------------------------\n",
      "A2:  [[0.50054357]]\n",
      "******************************\n"
     ]
    }
   ],
   "source": [
    "# for 2nd row\n",
    "X = df[['cgpa', 'profile_score']].values[1].reshape(2, 1) # shape: [#feature x #training examples]\n",
    "y = df[['lpa']].values[1][0]\n",
    "\n",
    "y_hat, A1 = layer_forward(X, parameters)\n"
   ]
  },
  {
   "cell_type": "code",
   "execution_count": 16,
   "id": "7b3df7c7",
   "metadata": {},
   "outputs": [],
   "source": [
    "update_parameters(parameters, y, y_hat, A1, X)\n"
   ]
  },
  {
   "cell_type": "code",
   "execution_count": 17,
   "id": "ab6e15d0",
   "metadata": {},
   "outputs": [
    {
     "data": {
      "text/plain": [
       "{'W1': array([[0.11458955, 0.1168776 ],\n",
       "        [0.11458955, 0.1168776 ]]),\n",
       " 'b1': array([[0.0019667],\n",
       "        [0.0019667]]),\n",
       " 'W2': array([[0.12712927],\n",
       "        [0.12712927]]),\n",
       " 'b2': array([[0.13612818]])}"
      ]
     },
     "execution_count": 17,
     "metadata": {},
     "output_type": "execute_result"
    }
   ],
   "source": [
    "parameters\n"
   ]
  },
  {
   "cell_type": "code",
   "execution_count": 18,
   "id": "51ef37b3",
   "metadata": {},
   "outputs": [
    {
     "name": "stdout",
     "output_type": "stream",
     "text": [
      "A0:  [[ 6]\n",
      " [10]]\n",
      "W1:  [[0.11458955 0.1168776 ]\n",
      " [0.11458955 0.1168776 ]]\n",
      "b1:  [[0.0019667]\n",
      " [0.0019667]]\n",
      "------------------------------\n",
      "A1:  [[1.83539945]\n",
      " [1.87200826]]\n",
      "******************************\n",
      "A1:  [[1.83539945]\n",
      " [1.87200826]]\n",
      "W2:  [[0.12712927]\n",
      " [0.12712927]]\n",
      "b2:  [[0.13612818]]\n",
      "------------------------------\n",
      "A2:  [[0.6074482]]\n",
      "******************************\n"
     ]
    }
   ],
   "source": [
    "# fro 3rd row\n",
    "X = df[['cgpa', 'profile_score']].values[2].reshape(2, 1) # shape: [#feature x #training examples]\n",
    "y = df[['lpa']].values[2][0]\n",
    "\n",
    "y_hat, A1 = layer_forward(X, parameters)\n"
   ]
  },
  {
   "cell_type": "code",
   "execution_count": 19,
   "id": "102c6de8",
   "metadata": {},
   "outputs": [
    {
     "data": {
      "text/plain": [
       "{'W1': array([[0.12409711, 0.13272353],\n",
       "        [0.12412266, 0.13276611]]),\n",
       " 'b1': array([[0.00355129],\n",
       "        [0.00355555]]),\n",
       " 'W2': array([[0.14692424],\n",
       "        [0.14731907]]),\n",
       " 'b2': array([[0.15810417]])}"
      ]
     },
     "execution_count": 19,
     "metadata": {},
     "output_type": "execute_result"
    }
   ],
   "source": [
    "update_parameters(parameters, y, y_hat, A1, X)\n",
    "\n",
    "parameters\n"
   ]
  },
  {
   "cell_type": "code",
   "execution_count": 20,
   "id": "be82168b",
   "metadata": {},
   "outputs": [
    {
     "name": "stdout",
     "output_type": "stream",
     "text": [
      "A0:  [[ 5]\n",
      " [12]]\n",
      "W1:  [[0.12409711 0.13272353]\n",
      " [0.12412266 0.13276611]]\n",
      "b1:  [[0.00355129]\n",
      " [0.00355555]]\n",
      "------------------------------\n",
      "A1:  [[2.11350869]\n",
      " [2.26036654]]\n",
      "******************************\n",
      "A1:  [[2.11350869]\n",
      " [2.26036654]]\n",
      "W2:  [[0.14692424]\n",
      " [0.14731907]]\n",
      "b2:  [[0.15810417]]\n",
      "------------------------------\n",
      "A2:  [[0.80162493]]\n",
      "******************************\n"
     ]
    }
   ],
   "source": [
    "# for 4th row\n",
    "X = df[['cgpa', 'profile_score']].values[3].reshape(2, 1) # shape: [#feature x #training examples]\n",
    "y = df[['lpa']].values[3][0]\n",
    "\n",
    "y_hat, A1 = layer_forward(X, parameters)\n"
   ]
  },
  {
   "cell_type": "code",
   "execution_count": 21,
   "id": "1d3d7f0a",
   "metadata": {},
   "outputs": [
    {
     "data": {
      "text/plain": [
       "{'W1': array([[0.13482804, 0.15847776],\n",
       "        [0.1349909 , 0.15884991]]),\n",
       " 'b1': array([[0.00569748],\n",
       "        [0.0057292 ]]),\n",
       " 'W2': array([[0.17312488],\n",
       "        [0.17534027]]),\n",
       " 'b2': array([[0.18773702]])}"
      ]
     },
     "execution_count": 21,
     "metadata": {},
     "output_type": "execute_result"
    }
   ],
   "source": [
    "update_parameters(parameters, y, y_hat, A1, X)\n",
    "\n",
    "parameters\n"
   ]
  },
  {
   "cell_type": "code",
   "execution_count": 22,
   "id": "39b89050",
   "metadata": {},
   "outputs": [
    {
     "name": "stdout",
     "output_type": "stream",
     "text": [
      "A0:  [[8]\n",
      " [8]]\n",
      "W1:  [[0.1 0.1]\n",
      " [0.1 0.1]]\n",
      "b1:  [[0.]\n",
      " [0.]]\n",
      "------------------------------\n",
      "A1:  [[1.6]\n",
      " [1.6]]\n",
      "******************************\n",
      "A1:  [[1.6]\n",
      " [1.6]]\n",
      "W2:  [[0.1]\n",
      " [0.1]]\n",
      "b2:  [[0.]]\n",
      "------------------------------\n",
      "A2:  [[0.32]]\n",
      "******************************\n",
      "A0:  [[7]\n",
      " [9]]\n",
      "W1:  [[0.10658137 0.10658137]\n",
      " [0.10658137 0.10658137]]\n",
      "b1:  [[0.00082267]\n",
      " [0.00082267]]\n",
      "------------------------------\n",
      "A1:  [[1.70612461]\n",
      " [1.70612461]]\n",
      "******************************\n",
      "A1:  [[1.70612461]\n",
      " [1.70612461]]\n",
      "W2:  [[0.111776]\n",
      " [0.111776]]\n",
      "b2:  [[0.119136]]\n",
      "------------------------------\n",
      "A2:  [[0.50054357]]\n",
      "******************************\n",
      "A0:  [[ 6]\n",
      " [10]]\n",
      "W1:  [[0.11458955 0.1168776 ]\n",
      " [0.11458955 0.1168776 ]]\n",
      "b1:  [[0.0019667]\n",
      " [0.0019667]]\n",
      "------------------------------\n",
      "A1:  [[1.83539945]\n",
      " [1.87200826]]\n",
      "******************************\n",
      "A1:  [[1.83539945]\n",
      " [1.87200826]]\n",
      "W2:  [[0.12712927]\n",
      " [0.12712927]]\n",
      "b2:  [[0.13612818]]\n",
      "------------------------------\n",
      "A2:  [[0.6074482]]\n",
      "******************************\n",
      "A0:  [[ 5]\n",
      " [12]]\n",
      "W1:  [[0.12409711 0.13272353]\n",
      " [0.12412266 0.13276611]]\n",
      "b1:  [[0.00355129]\n",
      " [0.00355555]]\n",
      "------------------------------\n",
      "A1:  [[2.11350869]\n",
      " [2.26036654]]\n",
      "******************************\n",
      "A1:  [[2.11350869]\n",
      " [2.26036654]]\n",
      "W2:  [[0.14692424]\n",
      " [0.14731907]]\n",
      "b2:  [[0.15810417]]\n",
      "------------------------------\n",
      "A2:  [[0.80162493]]\n",
      "******************************\n",
      "Epoch -  1 Loss:  25.321744156025517\n",
      "A0:  [[8]\n",
      " [8]]\n",
      "W1:  [[0.13482804 0.15847776]\n",
      " [0.1349909  0.15884991]]\n",
      "b1:  [[0.00569748]\n",
      " [0.0057292 ]]\n",
      "------------------------------\n",
      "A1:  [[2.16424899]\n",
      " [2.54435052]]\n",
      "******************************\n",
      "A1:  [[2.16424899]\n",
      " [2.54435052]]\n",
      "W2:  [[0.17312488]\n",
      " [0.17534027]]\n",
      "b2:  [[0.18773702]]\n",
      "------------------------------\n",
      "A2:  [[1.00854947]]\n",
      "******************************\n",
      "A0:  [[7]\n",
      " [9]]\n",
      "W1:  [[0.1437341  0.16738383]\n",
      " [0.14411185 0.16797086]]\n",
      "b1:  [[0.00681073]\n",
      " [0.00686932]]\n",
      "------------------------------\n",
      "A1:  [[2.30995614]\n",
      " [2.69029382]]\n",
      "******************************\n",
      "A1:  [[2.30995614]\n",
      " [2.69029382]]\n",
      "W2:  [[0.18607337]\n",
      " [0.19056287]]\n",
      "b2:  [[0.19654577]]\n",
      "------------------------------\n",
      "A2:  [[1.13903718]]\n",
      "******************************\n",
      "A0:  [[ 6]\n",
      " [10]]\n",
      "W1:  [[0.15475619 0.18155508]\n",
      " [0.15553536 0.18265822]]\n",
      "b1:  [[0.00838532]\n",
      " [0.00850125]]\n",
      "------------------------------\n",
      "A1:  [[2.49227603]\n",
      " [2.92441391]]\n",
      "******************************\n",
      "A1:  [[2.49227603]\n",
      " [2.92441391]]\n",
      "W2:  [[0.20391068]\n",
      " [0.21133712]]\n",
      "b2:  [[0.21905904]]\n",
      "------------------------------\n",
      "A2:  [[1.34529793]]\n",
      "******************************\n",
      "A0:  [[ 5]\n",
      " [12]]\n",
      "W1:  [[0.16744187 0.20269788]\n",
      " [0.16886056 0.20486689]]\n",
      "b1:  [[0.0104996 ]\n",
      " [0.01072211]]\n",
      "------------------------------\n",
      "A1:  [[2.87403566]\n",
      " [3.48261418]]\n",
      "******************************\n",
      "A1:  [[2.87403566]\n",
      " [3.48261418]]\n",
      "W2:  [[0.22711228]\n",
      " [0.23856167]]\n",
      "b2:  [[0.24787107]]\n",
      "------------------------------\n",
      "A2:  [[1.73141811]]\n",
      "******************************\n",
      "Epoch -  2 Loss:  18.320004165722047\n",
      "A0:  [[8]\n",
      " [8]]\n",
      "W1:  [[0.18100301 0.23524462]\n",
      " [0.18336278 0.23967222]]\n",
      "b1:  [[0.01321183]\n",
      " [0.01362256]]\n",
      "------------------------------\n",
      "A1:  [[2.92813816]\n",
      " [3.8129573 ]]\n",
      "******************************\n",
      "A1:  [[2.92813816]\n",
      " [3.8129573 ]]\n",
      "W2:  [[0.25739647]\n",
      " [0.27525854]]\n",
      "b2:  [[0.28579571]]\n",
      "------------------------------\n",
      "A2:  [[2.08903719]]\n",
      "******************************\n",
      "A0:  [[7]\n",
      " [9]]\n",
      "W1:  [[0.18921518 0.24345679]\n",
      " [0.1922245  0.24853394]]\n",
      "b1:  [[0.01423835]\n",
      " [0.01473027]]\n",
      "------------------------------\n",
      "A1:  [[3.06876509]\n",
      " [3.95573325]]\n",
      "******************************\n",
      "A1:  [[3.06876509]\n",
      " [3.95573325]]\n",
      "W2:  [[0.26858759]\n",
      " [0.28983138]]\n",
      "b2:  [[0.29365331]]\n",
      "------------------------------\n",
      "A2:  [[2.26438116]]\n",
      "******************************\n",
      "A0:  [[ 6]\n",
      " [10]]\n",
      "W1:  [[0.20014476 0.25750911]\n",
      " [0.20415354 0.26387128]]\n",
      "b1:  [[0.01579972]\n",
      " [0.01643442]]\n",
      "------------------------------\n",
      "A1:  [[3.25820367]\n",
      " [4.20020184]]\n",
      "******************************\n",
      "A1:  [[3.25820367]\n",
      " [4.20020184]]\n",
      "W2:  [[0.28537753]\n",
      " [0.31147414]]\n",
      "b2:  [[0.31694538]]\n",
      "------------------------------\n",
      "A2:  [[2.55501776]]\n",
      "******************************\n",
      "A0:  [[ 5]\n",
      " [12]]\n",
      "W1:  [[0.21287024 0.27871824]\n",
      " [0.21822616 0.28732564]]\n",
      "b1:  [[0.01792063]\n",
      " [0.01877986]]\n",
      "------------------------------\n",
      "A1:  [[3.7009857 ]\n",
      " [4.86027872]]\n",
      "******************************\n",
      "A1:  [[3.7009857 ]\n",
      " [4.86027872]]\n",
      "W2:  [[0.30782644]\n",
      " [0.34041338]]\n",
      "b2:  [[0.34730334]]\n",
      "------------------------------\n",
      "A2:  [[3.14106851]]\n",
      "******************************\n",
      "Epoch -  3 Loss:  9.473661050729628\n",
      "A0:  [[8]\n",
      " [8]]\n",
      "W1:  [[0.22585131 0.3098728 ]\n",
      " [0.23281    0.32232686]]\n",
      "b1:  [[0.02051684]\n",
      " [0.02169662]]\n",
      "------------------------------\n",
      "A1:  [[3.68980727]\n",
      " [5.07929387]]\n",
      "******************************\n",
      "A1:  [[3.68980727]\n",
      " [5.07929387]]\n",
      "W2:  [[0.33639014]\n",
      " [0.37792434]]\n",
      "b2:  [[0.38564221]]\n",
      "------------------------------\n",
      "A2:  [[3.54644581]]\n",
      "******************************\n",
      "A0:  [[7]\n",
      " [9]]\n",
      "W1:  [[0.22831673 0.31233823]\n",
      " [0.23558598 0.32510284]]\n",
      "b1:  [[0.02082502]\n",
      " [0.02204362]]\n",
      "------------------------------\n",
      "A1:  [[3.73931597]\n",
      " [5.13433676]]\n",
      "******************************\n",
      "A1:  [[3.73931597]\n",
      " [5.13433676]]\n",
      "W2:  [[0.3397372 ]\n",
      " [0.38253181]]\n",
      "b2:  [[0.38343892]]\n",
      "------------------------------\n",
      "A2:  [[3.61787081]]\n",
      "******************************\n",
      "A0:  [[ 6]\n",
      " [10]]\n",
      "W1:  [[0.23509059 0.32104747]\n",
      " [0.24326252 0.33497268]]\n",
      "b1:  [[0.02179271]\n",
      " [0.02314027]]\n",
      "------------------------------\n",
      "A1:  [[3.86496148]\n",
      " [5.2991519 ]]\n",
      "******************************\n",
      "A1:  [[3.86496148]\n",
      " [5.2991519 ]]\n",
      "W2:  [[0.35007363]\n",
      " [0.39672445]]\n",
      "b2:  [[0.39948871]]\n",
      "------------------------------\n",
      "A2:  [[3.85481293]]\n",
      "******************************\n",
      "A0:  [[ 5]\n",
      " [12]]\n",
      "W1:  [[0.24452913 0.33677838]\n",
      " [0.25406036 0.35296907]]\n",
      "b1:  [[0.02336581]\n",
      " [0.02493991]]\n",
      "------------------------------\n",
      "A1:  [[4.29473577]\n",
      " [5.94446068]]\n",
      "******************************\n",
      "A1:  [[4.29473577]\n",
      " [5.94446068]]\n",
      "W2:  [[0.36665576]\n",
      " [0.41945979]]\n",
      "b2:  [[0.42375017]]\n",
      "------------------------------\n",
      "A2:  [[4.49190204]]\n",
      "******************************\n",
      "Epoch -  4 Loss:  3.2520938634031613\n",
      "A0:  [[8]\n",
      " [8]]\n",
      "W1:  [[0.25426555 0.36014576]\n",
      " [0.2653287  0.38001309]]\n",
      "b1:  [[0.02531309]\n",
      " [0.02719358]]\n",
      "------------------------------\n",
      "A1:  [[4.18206705]\n",
      " [5.94846444]]\n",
      "******************************\n",
      "A1:  [[4.18206705]\n",
      " [5.94846444]]\n",
      "W2:  [[0.388199  ]\n",
      " [0.44927837]]\n",
      "b2:  [[0.45429457]]\n",
      "------------------------------\n",
      "A2:  [[4.75028523]]\n",
      "******************************\n",
      "A0:  [[7]\n",
      " [9]]\n",
      "W1:  [[0.24968072 0.35556094]\n",
      " [0.26004246 0.37472686]]\n",
      "b1:  [[0.02473998]\n",
      " [0.0265328 ]]\n",
      "------------------------------\n",
      "A1:  [[4.11288719]\n",
      " [5.88800108]]\n",
      "******************************\n",
      "A1:  [[4.11288719]\n",
      " [5.88800108]]\n",
      "W2:  [[0.38192351]\n",
      " [0.44035228]]\n",
      "b2:  [[0.43885171]]\n",
      "------------------------------\n",
      "A2:  [[4.60245475]]\n",
      "******************************\n",
      "A0:  [[ 6]\n",
      " [10]]\n",
      "W1:  [[0.25182457 0.35831731]\n",
      " [0.26251936 0.37791144]]\n",
      "b1:  [[0.02504625]\n",
      " [0.02688664]]\n",
      "------------------------------\n",
      "A1:  [[4.16118723]\n",
      " [5.95590488]]\n",
      "******************************\n",
      "A1:  [[4.16118723]\n",
      " [5.95590488]]\n",
      "W2:  [[0.38519363]\n",
      " [0.44503378]]\n",
      "b2:  [[0.44582887]]\n",
      "------------------------------\n",
      "A2:  [[4.69927052]]\n",
      "******************************\n",
      "A0:  [[ 5]\n",
      " [12]]\n",
      "W1:  [[0.25800593 0.36861958]\n",
      " [0.26970762 0.38989188]]\n",
      "b1:  [[0.02607647]\n",
      " [0.02808469]]\n",
      "------------------------------\n",
      "A1:  [[4.55259758]\n",
      " [6.54988512]]\n",
      "******************************\n",
      "A1:  [[4.55259758]\n",
      " [6.54988512]]\n",
      "W2:  [[0.39601879]\n",
      " [0.46052782]]\n",
      "b2:  [[0.46312928]]\n",
      "------------------------------\n",
      "A2:  [[5.28244776]]\n",
      "******************************\n",
      "Epoch -  5 Loss:  1.3407132589299962\n",
      "final parameters: \n",
      "{'W1': array([[0.26507636, 0.38558861],\n",
      "       [0.27800387, 0.40980287]]), 'b1': array([[0.02749056],\n",
      "       [0.02974394]]), 'W2': array([[0.41165744],\n",
      "       [0.48302736]]), 'b2': array([[0.48646246]])}\n"
     ]
    }
   ],
   "source": [
    "# final implementation with epochs\n",
    "\n",
    "parameters = initialize_parameters([2,2,1])\n",
    "epochs = 5\n",
    "\n",
    "for i in range(epochs):\n",
    "    loss = 0\n",
    "    \n",
    "    for j in range(df.shape[0]):\n",
    "        X = df[['cgpa', 'profile_score']].values[j].reshape(2, 1)\n",
    "        y = df[['lpa']].values[j][0]\n",
    "        \n",
    "        # forward prop.\n",
    "        y_hat, A1 = layer_forward(X, parameters)\n",
    "        y_hat = y_hat[0][0]\n",
    "        \n",
    "        # calc. loss \n",
    "        loss = loss + (y - y_hat)**2\n",
    "        \n",
    "        # update parameters\n",
    "        update_parameters(parameters, y, y_hat, A1, X) \n",
    "        \n",
    "    avg_loss = loss / df.shape[0]\n",
    "    print(\"Epoch - \", i+1, \"Loss: \", avg_loss)\n",
    "\n",
    "print('final parameters: ')\n",
    "print(parameters)\n"
   ]
  },
  {
   "cell_type": "markdown",
   "id": "8319d0f2",
   "metadata": {},
   "source": [
    "### Using Keras"
   ]
  },
  {
   "cell_type": "code",
   "execution_count": 23,
   "id": "0be19c82",
   "metadata": {},
   "outputs": [],
   "source": [
    "import tensorflow as tf\n",
    "from tensorflow.keras import layers, Sequential\n",
    "\n",
    "# Define the model\n",
    "model = Sequential([\n",
    "    layers.Dense(2, activation='linear', input_dim=2),  # Input layer with 2 features\n",
    "    layers.Dense(1, activation='linear')                                        # Output layer (e.g., regression)\n",
    "])\n"
   ]
  },
  {
   "cell_type": "code",
   "execution_count": 24,
   "id": "063cfeab",
   "metadata": {},
   "outputs": [
    {
     "name": "stdout",
     "output_type": "stream",
     "text": [
      "Model: \"sequential\"\n",
      "_________________________________________________________________\n",
      " Layer (type)                Output Shape              Param #   \n",
      "=================================================================\n",
      " dense (Dense)               (None, 2)                 6         \n",
      "                                                                 \n",
      " dense_1 (Dense)             (None, 1)                 3         \n",
      "                                                                 \n",
      "=================================================================\n",
      "Total params: 9\n",
      "Trainable params: 9\n",
      "Non-trainable params: 0\n",
      "_________________________________________________________________\n"
     ]
    }
   ],
   "source": [
    "\n",
    "model.summary()\n"
   ]
  },
  {
   "cell_type": "code",
   "execution_count": 25,
   "id": "a9d5e133",
   "metadata": {},
   "outputs": [
    {
     "data": {
      "text/plain": [
       "[array([[-0.56701374, -0.21704948],\n",
       "        [-0.4117353 ,  0.05523479]], dtype=float32),\n",
       " array([0., 0.], dtype=float32),\n",
       " array([[ 1.3884426 ],\n",
       "        [-0.26267934]], dtype=float32),\n",
       " array([0.], dtype=float32)]"
      ]
     },
     "execution_count": 25,
     "metadata": {},
     "output_type": "execute_result"
    }
   ],
   "source": [
    "model.get_weights()\n"
   ]
  },
  {
   "cell_type": "code",
   "execution_count": 26,
   "id": "95024b2d",
   "metadata": {},
   "outputs": [],
   "source": [
    "new_weights = [np.array([[0.1, 0.1],\n",
    "        [0.1 ,  0.1]], dtype=np.float32),\n",
    " np.array([0., 0.], dtype=np.float32),\n",
    " np.array([[ 0.1 ],\n",
    "        [0.1]], dtype=np.float32),\n",
    " np.array([0.], dtype=np.float32)]\n"
   ]
  },
  {
   "cell_type": "code",
   "execution_count": null,
   "id": "d3c62294",
   "metadata": {},
   "outputs": [],
   "source": [
    "model.set_weights(new_weights)\n"
   ]
  },
  {
   "cell_type": "code",
   "execution_count": 28,
   "id": "569f4267",
   "metadata": {},
   "outputs": [
    {
     "data": {
      "text/plain": [
       "[array([[0.1, 0.1],\n",
       "        [0.1, 0.1]], dtype=float32),\n",
       " array([0., 0.], dtype=float32),\n",
       " array([[0.1],\n",
       "        [0.1]], dtype=float32),\n",
       " array([0.], dtype=float32)]"
      ]
     },
     "execution_count": 28,
     "metadata": {},
     "output_type": "execute_result"
    }
   ],
   "source": [
    "model.get_weights()\n"
   ]
  },
  {
   "cell_type": "code",
   "execution_count": 30,
   "id": "4655a135",
   "metadata": {},
   "outputs": [],
   "source": [
    "optimizer = tf.keras.optimizers.Adam(learning_rate=0.001)\n",
    "model.compile(loss='mean_squared_error', optimizer=optimizer)\n"
   ]
  },
  {
   "cell_type": "code",
   "execution_count": 32,
   "id": "866f3e82",
   "metadata": {},
   "outputs": [
    {
     "name": "stdout",
     "output_type": "stream",
     "text": [
      "Epoch 1/50\n",
      "4/4 [==============================] - 0s 2ms/step - loss: 16.9795\n",
      "Epoch 2/50\n",
      "4/4 [==============================] - 0s 2ms/step - loss: 16.4679\n",
      "Epoch 3/50\n",
      "4/4 [==============================] - 0s 2ms/step - loss: 15.9030\n",
      "Epoch 4/50\n",
      "4/4 [==============================] - 0s 2ms/step - loss: 15.4196\n",
      "Epoch 5/50\n",
      "4/4 [==============================] - 0s 2ms/step - loss: 14.8456\n",
      "Epoch 6/50\n",
      "4/4 [==============================] - 0s 1ms/step - loss: 14.3273\n",
      "Epoch 7/50\n",
      "4/4 [==============================] - 0s 2ms/step - loss: 13.8459\n",
      "Epoch 8/50\n",
      "4/4 [==============================] - 0s 1ms/step - loss: 13.3035\n",
      "Epoch 9/50\n",
      "4/4 [==============================] - 0s 2ms/step - loss: 12.7856\n",
      "Epoch 10/50\n",
      "4/4 [==============================] - 0s 1ms/step - loss: 12.3145\n",
      "Epoch 11/50\n",
      "4/4 [==============================] - 0s 2ms/step - loss: 11.7751\n",
      "Epoch 12/50\n",
      "4/4 [==============================] - 0s 1ms/step - loss: 11.2618\n",
      "Epoch 13/50\n",
      "4/4 [==============================] - 0s 2ms/step - loss: 10.8112\n",
      "Epoch 14/50\n",
      "4/4 [==============================] - 0s 2ms/step - loss: 10.3146\n",
      "Epoch 15/50\n",
      "4/4 [==============================] - 0s 2ms/step - loss: 9.8833\n",
      "Epoch 16/50\n",
      "4/4 [==============================] - 0s 1ms/step - loss: 9.4084\n",
      "Epoch 17/50\n",
      "4/4 [==============================] - 0s 2ms/step - loss: 8.9706\n",
      "Epoch 18/50\n",
      "4/4 [==============================] - 0s 2ms/step - loss: 8.5160\n",
      "Epoch 19/50\n",
      "4/4 [==============================] - 0s 2ms/step - loss: 8.0940\n",
      "Epoch 20/50\n",
      "4/4 [==============================] - 0s 3ms/step - loss: 7.6658\n",
      "Epoch 21/50\n",
      "4/4 [==============================] - 0s 2ms/step - loss: 7.2883\n",
      "Epoch 22/50\n",
      "4/4 [==============================] - 0s 2ms/step - loss: 6.9106\n",
      "Epoch 23/50\n",
      "4/4 [==============================] - 0s 3ms/step - loss: 6.5310\n",
      "Epoch 24/50\n",
      "4/4 [==============================] - 0s 1ms/step - loss: 6.1983\n",
      "Epoch 25/50\n",
      "4/4 [==============================] - 0s 2ms/step - loss: 5.8548\n",
      "Epoch 26/50\n",
      "4/4 [==============================] - 0s 3ms/step - loss: 5.5195\n",
      "Epoch 27/50\n",
      "4/4 [==============================] - 0s 2ms/step - loss: 5.1765\n",
      "Epoch 28/50\n",
      "4/4 [==============================] - 0s 2ms/step - loss: 4.8635\n",
      "Epoch 29/50\n",
      "4/4 [==============================] - 0s 2ms/step - loss: 4.6231\n",
      "Epoch 30/50\n",
      "4/4 [==============================] - 0s 2ms/step - loss: 4.3293\n",
      "Epoch 31/50\n",
      "4/4 [==============================] - 0s 2ms/step - loss: 4.0682\n",
      "Epoch 32/50\n",
      "4/4 [==============================] - 0s 2ms/step - loss: 3.8583\n",
      "Epoch 33/50\n",
      "4/4 [==============================] - 0s 3ms/step - loss: 3.6492\n",
      "Epoch 34/50\n",
      "4/4 [==============================] - 0s 2ms/step - loss: 3.3717\n",
      "Epoch 35/50\n",
      "4/4 [==============================] - 0s 3ms/step - loss: 3.1804\n",
      "Epoch 36/50\n",
      "4/4 [==============================] - 0s 2ms/step - loss: 2.9992\n",
      "Epoch 37/50\n",
      "4/4 [==============================] - 0s 2ms/step - loss: 2.8464\n",
      "Epoch 38/50\n",
      "4/4 [==============================] - 0s 2ms/step - loss: 2.6871\n",
      "Epoch 39/50\n",
      "4/4 [==============================] - 0s 2ms/step - loss: 2.5579\n",
      "Epoch 40/50\n",
      "4/4 [==============================] - 0s 2ms/step - loss: 2.3569\n",
      "Epoch 41/50\n",
      "4/4 [==============================] - 0s 2ms/step - loss: 2.2765\n",
      "Epoch 42/50\n",
      "4/4 [==============================] - 0s 3ms/step - loss: 2.1275\n",
      "Epoch 43/50\n",
      "4/4 [==============================] - 0s 2ms/step - loss: 2.0390\n",
      "Epoch 44/50\n",
      "4/4 [==============================] - 0s 2ms/step - loss: 1.9574\n",
      "Epoch 45/50\n",
      "4/4 [==============================] - 0s 3ms/step - loss: 1.8505\n",
      "Epoch 46/50\n",
      "4/4 [==============================] - 0s 2ms/step - loss: 1.7696\n",
      "Epoch 47/50\n",
      "4/4 [==============================] - 0s 2ms/step - loss: 1.6516\n",
      "Epoch 48/50\n",
      "4/4 [==============================] - 0s 2ms/step - loss: 1.6074\n",
      "Epoch 49/50\n",
      "4/4 [==============================] - 0s 3ms/step - loss: 1.5385\n",
      "Epoch 50/50\n",
      "4/4 [==============================] - 0s 2ms/step - loss: 1.5006\n"
     ]
    },
    {
     "data": {
      "text/plain": [
       "<keras.callbacks.History at 0x16c54e51dd0>"
      ]
     },
     "execution_count": 32,
     "metadata": {},
     "output_type": "execute_result"
    }
   ],
   "source": [
    "model.fit(df.iloc[:, 0:-1].values, df['lpa'].values, epochs=50, verbose=1, batch_size=1)\n"
   ]
  },
  {
   "cell_type": "code",
   "execution_count": 33,
   "id": "75f7b160",
   "metadata": {},
   "outputs": [
    {
     "data": {
      "text/plain": [
       "[array([[0.37360412, 0.37360412],\n",
       "        [0.3657724 , 0.3657724 ]], dtype=float32),\n",
       " array([0.27239046, 0.27239046], dtype=float32),\n",
       " array([[0.37301174],\n",
       "        [0.37301174]], dtype=float32),\n",
       " array([0.20491731], dtype=float32)]"
      ]
     },
     "execution_count": 33,
     "metadata": {},
     "output_type": "execute_result"
    }
   ],
   "source": [
    "model.get_weights()\n"
   ]
  },
  {
   "cell_type": "code",
   "execution_count": null,
   "id": "65ec637e",
   "metadata": {},
   "outputs": [],
   "source": []
  }
 ],
 "metadata": {
  "kernelspec": {
   "display_name": ".venv (3.11.7)",
   "language": "python",
   "name": "python3"
  },
  "language_info": {
   "codemirror_mode": {
    "name": "ipython",
    "version": 3
   },
   "file_extension": ".py",
   "mimetype": "text/x-python",
   "name": "python",
   "nbconvert_exporter": "python",
   "pygments_lexer": "ipython3",
   "version": "3.11.7"
  }
 },
 "nbformat": 4,
 "nbformat_minor": 5
}
